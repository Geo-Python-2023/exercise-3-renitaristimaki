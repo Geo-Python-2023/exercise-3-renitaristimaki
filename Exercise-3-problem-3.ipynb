{
 "cells": [
  {
   "cell_type": "markdown",
   "metadata": {
    "deletable": false,
    "editable": false,
    "nbgrader": {
     "cell_type": "markdown",
     "checksum": "30dc459cddf9133c14f06cc0adad1fbf",
     "grade": false,
     "grade_id": "cell-5c68af490e1d2129",
     "locked": true,
     "schema_version": 3,
     "solution": false
    }
   },
   "source": [
    "## Problem 3 - Allocating locations (4 points)\n",
    "\n",
    "### Overview\n",
    "\n",
    "The map below shows the locations of weather stations in Finland (blue points) that are more than 70 years old [1].\n",
    "In this problem we are interested to find out whether the station network was equally distributed across Finland\n",
    "seventy years ago. We have divided Finland into four geographical zones (Northwest, Northeast, Southwest, Southeast) according the approximate center point of the Finnish mainland located at `26.3, 64.5` (longitude, latitude in decimal degrees).\n",
    "\n",
    "![FMI stations](img/FMI_stations_70_years_older.png)\n",
    "\n",
    "[1]: The locations and the age of weather stations were obtained from: http://en.ilmatieteenlaitos.fi/observation-stations\n",
    "\n",
    "Below, we have given you the coordinates of 34 weather stations.\n",
    "The location of a single station is determined with a pair of latitude and longitude coordinates.\n",
    "The coordinates of all the stations are separated into two lists (`lat` and `lon`) and the names of the stations are in the `stations` list. From these lists, you would get, for example, the location of the first station by combining the latitude and longitude coordinates from the coordinate lists, and the name of that station from the `stations` list at index `0`.\n",
    "\n",
    "### Problem statement\n",
    "\n",
    "In this problem your task is to print the names of weather stations located in different zones. **Optionally**, you can also report the share of weather stations that allocated to each zone that could be used to evaluate if certain zone was over/under-represented 70 years ago. This optional task does not affect your score on this problem.\n",
    "\n",
    "To solve this problem, you should modify and fill in the missing parts in the code cells below.\n",
    "\n",
    "### Tips for completing this problem\n",
    "\n",
    "- Use **exactly** the same variable names as in the instructions because your answers will be automatically graded, and the tests that grade your answers rely on following the same formatting or variable naming as in the instructions.\n",
    "- **Please do not**:\n",
    "\n",
    "    - **Change the file names**. Do all of your editing in the provided `Exercise-3-problem-3.ipynb` file (this file).\n",
    "    - **Copy/paste cells in this notebook**. We use an automated grading system that will fail if there are copies of code cells.\n",
    "    - **Change the existing cell types**. You can add cells, but changing the cell types for existing cells (from code to markdown, for example) will also cause the automated grader to fail.\n",
    "\n",
    "### Scores for this problem\n",
    "\n",
    "**Your score on this problem will be based on following criteria:**\n",
    "\n",
    "- Creating four lists for geographical zones in Finland (i.e. `nort_west`, `north_east`, `south_west`, `south_east`)\n",
    "- Iterating over the values and determining to which geographical zone the station belongs\n",
    "    - Hint: You should create a loop that iterates `n` times. Create a variable *`n`* that should contain the number of stations we have here.\n",
    "    - You should use a conditional statement to find out if the latitude coordinate of a station is either North or South of the center point of Finland (`26.3, 64.5`) **AND** if the longitude location is West or East of that center point.\n",
    "    - You should insert the name of the station into the correct geographical zone list\n",
    "- Printing out the names of stations in each geographical zone"
   ]
  },
  {
   "cell_type": "markdown",
   "metadata": {
    "deletable": false,
    "editable": false,
    "nbgrader": {
     "cell_type": "markdown",
     "checksum": "a8422d759c130cdee6b1f2874363d159",
     "grade": false,
     "grade_id": "cell-74fa879c3b75c6b0",
     "locked": true,
     "schema_version": 3,
     "solution": false,
     "task": false
    }
   },
   "source": [
    "## AI tool usage agreement\n",
    "\n",
    "**Enter your name (and that of your partner) in the cell below** to confirm that you have followed the [course guidelines on the use of AI tools](https://geo-python-site.readthedocs.io/en/latest/course-info/ai-tools.html) and understand that misuse of AI tools is considered cheating."
   ]
  },
  {
   "cell_type": "markdown",
   "metadata": {
    "deletable": false,
    "nbgrader": {
     "cell_type": "markdown",
     "checksum": "ca5171ab408cd40b040449cbfbc12b89",
     "grade": true,
     "grade_id": "E3-P3-AI-LLM_statement",
     "locked": false,
     "points": 0,
     "schema_version": 3,
     "solution": true,
     "task": false
    },
    "tags": []
   },
   "source": [
    "RENITA RISTIMAKI"
   ]
  },
  {
   "cell_type": "markdown",
   "metadata": {
    "deletable": false,
    "editable": false,
    "nbgrader": {
     "cell_type": "markdown",
     "checksum": "a9c414a2b7d5b67ace0d0b3b4c71c5b6",
     "grade": false,
     "grade_id": "cell-5c0a48bd858489b8",
     "locked": true,
     "schema_version": 3,
     "solution": false
    }
   },
   "source": [
    "## The data\n",
    "\n",
    "Here, we provide the data you should use to solve Problem 3 (run the cell to store values in memory)."
   ]
  },
  {
   "cell_type": "code",
   "execution_count": 64,
   "metadata": {
    "deletable": false,
    "editable": false,
    "nbgrader": {
     "cell_type": "code",
     "checksum": "dbe4140e5913699f7487be22e490b39f",
     "grade": false,
     "grade_id": "cell-888d0ee752aed9d0",
     "locked": true,
     "schema_version": 3,
     "solution": false
    },
    "tags": []
   },
   "outputs": [],
   "source": [
    "# Station names\n",
    "stations = ['Hanko Russarö', 'Heinola Asemantaus', 'Helsinki Kaisaniemi', \n",
    "            'Helsinki Malmi airfield', 'Hyvinkää Hyvinkäänkylä', 'Joutsa Savenaho', \n",
    "            'Juuka Niemelä', 'Jyväskylä airport', 'Kaarina Yltöinen', 'Kauhava airfield', \n",
    "            'Kemi Kemi-Tornio airport', 'Kotka Rankki', 'Kouvola Anjala', \n",
    "            'Kouvola Utti airport', 'Kuopio Maaninka', 'Kuusamo airport', \n",
    "            'Lieksa Lampela', 'Mustasaari Valassaaret', 'Parainen Utö', 'Pori airport', \n",
    "            'Rovaniemi Apukka', 'Salo Kärkkä', 'Savonlinna Punkaharju Laukansaari', \n",
    "            'Seinäjoki Pelmaa', 'Siikajoki Ruukki', 'Siilinjärvi Kuopio airport', \n",
    "            'Tohmajärvi Kemie', 'Utsjoki Nuorgam', 'Vaala Pelso', 'Vaasa airport', \n",
    "            'Vesanto Sonkari', 'Vieremä Kaarakkala', 'Vihti Maasoja', 'Ylitornio Meltosjärvi']\n",
    "\n",
    "# Latitude coordinates of Weather stations  \n",
    "lats = [59.77, 61.2, 60.18, 60.25, 60.6, 61.88, 63.23, 62.4,\n",
    "       60.39, 63.12, 65.78, 60.38, 60.7, 60.9, 63.14, 65.99,\n",
    "       63.32, 63.44, 59.78, 61.47, 66.58, 60.37, 61.8, 62.94,\n",
    "       64.68, 63.01, 62.24, 70.08, 64.501, 63.06, 62.92, 63.84,\n",
    "       60.42, 66.53]\n",
    "\n",
    "# Longitude coordinates of Weather stations \n",
    "lons = [22.95, 26.05, 24.94, 25.05, 24.8, 26.09, 29.23, 25.67, \n",
    "       22.55, 23.04, 24.58, 26.96, 26.81, 26.95, 27.31, 29.23, \n",
    "       30.05, 21.07, 21.37, 21.79, 26.01, 23.11, 29.32, 22.49, \n",
    "       25.09, 27.8, 30.35, 27.9, 26.42, 21.75, 26.42, 27.22, \n",
    "       24.4, 24.65]\n",
    "\n",
    "# Cutoff values that correspond to the centroid of Finnish mainland\n",
    "# North - South\n",
    "north_south_cutoff = 64.5\n",
    "\n",
    "# East-West\n",
    "east_west_cutoff = 26.3"
   ]
  },
  {
   "cell_type": "markdown",
   "metadata": {
    "deletable": false,
    "editable": false,
    "nbgrader": {
     "cell_type": "markdown",
     "checksum": "c1b15c071da222a9ca87476ac7a6baee",
     "grade": false,
     "grade_id": "cell-58b0a649f63e9d38",
     "locked": true,
     "schema_version": 3,
     "solution": false
    }
   },
   "source": [
    "### Part 1 (0.5 points)\n",
    "\n",
    "- Create four empty lists for the geographical zones in Finland. Use **exactly** these variable names:\n",
    "   - `north_west`\n",
    "   - `north_east`\n",
    "   - `south_west`\n",
    "   - `south_east`"
   ]
  },
  {
   "cell_type": "code",
   "execution_count": 65,
   "metadata": {
    "deletable": false,
    "nbgrader": {
     "cell_type": "code",
     "checksum": "bb76f9cfd25ed98e99072314f59097a5",
     "grade": false,
     "grade_id": "problem_3_ag_p1_geo_zones",
     "locked": false,
     "schema_version": 3,
     "solution": true
    },
    "tags": []
   },
   "outputs": [],
   "source": [
    "north_west =[]\n",
    "north_east = []\n",
    "south_west = []\n",
    "south_east = []"
   ]
  },
  {
   "cell_type": "code",
   "execution_count": 66,
   "metadata": {
    "deletable": false,
    "editable": false,
    "nbgrader": {
     "cell_type": "code",
     "checksum": "b766e47b1852af4640480e5fd2eac01e",
     "grade": true,
     "grade_id": "problem_3_ag_p1_geo_zones_test1",
     "locked": true,
     "points": 0.5,
     "schema_version": 3,
     "solution": false
    },
    "tags": []
   },
   "outputs": [
    {
     "name": "stdout",
     "output_type": "stream",
     "text": [
      "[] []\n"
     ]
    }
   ],
   "source": [
    "# This test print should work\n",
    "print(north_west, south_west)\n"
   ]
  },
  {
   "cell_type": "markdown",
   "metadata": {
    "deletable": false,
    "editable": false,
    "nbgrader": {
     "cell_type": "markdown",
     "checksum": "da12c555c2c6f4d6558f23b90e7df5fe",
     "grade": false,
     "grade_id": "cell-8fbea85320420b00",
     "locked": true,
     "schema_version": 3,
     "solution": false
    }
   },
   "source": [
    "### Part 2 (0.5 points)\n",
    "\n",
    "- Count the total number of stations and store that value in the variable `n`."
   ]
  },
  {
   "cell_type": "code",
   "execution_count": 67,
   "metadata": {
    "deletable": false,
    "nbgrader": {
     "cell_type": "code",
     "checksum": "65bf512f27403a124f2b3a3b9689a54e",
     "grade": false,
     "grade_id": "problem_3_ag_p2_station_count",
     "locked": false,
     "schema_version": 3,
     "solution": true
    },
    "tags": []
   },
   "outputs": [],
   "source": [
    "n = len(stations)"
   ]
  },
  {
   "cell_type": "code",
   "execution_count": 68,
   "metadata": {
    "deletable": false,
    "editable": false,
    "nbgrader": {
     "cell_type": "code",
     "checksum": "cf09a6caa084fbedce72bd815489a6d5",
     "grade": true,
     "grade_id": "problem_3_ag_p2_station_count_test1",
     "locked": true,
     "points": 0.5,
     "schema_version": 3,
     "solution": false
    },
    "tags": []
   },
   "outputs": [
    {
     "name": "stdout",
     "output_type": "stream",
     "text": [
      "In the dataset there are 34 stations.\n"
     ]
    }
   ],
   "source": [
    "# How many stations do we have?\n",
    "print(f\"In the dataset there are {n} stations.\")"
   ]
  },
  {
   "cell_type": "markdown",
   "metadata": {
    "deletable": false,
    "editable": false,
    "nbgrader": {
     "cell_type": "markdown",
     "checksum": "75df142f1963df6673e972f62a96b430",
     "grade": false,
     "grade_id": "cell-86baf64c3b574d9a",
     "locked": true,
     "schema_version": 3,
     "solution": false
    }
   },
   "source": [
    "### Part 3 (0 points)\n",
    "\n",
    "- Make a loop that iterates `n` times, and allocates stations to different geographical zones based on their coordinates. "
   ]
  },
  {
   "cell_type": "code",
   "execution_count": 69,
   "metadata": {
    "deletable": false,
    "nbgrader": {
     "cell_type": "code",
     "checksum": "524aaa474d18a0a90254509328875ec9",
     "grade": false,
     "grade_id": "problem_3_ag_p3_allocate_stations",
     "locked": false,
     "schema_version": 3,
     "solution": true
    },
    "tags": []
   },
   "outputs": [
    {
     "name": "stdout",
     "output_type": "stream",
     "text": [
      "Hanko Russarö is at the 59.77 and 22.95 in the list.\n",
      "Heinola Asemantaus is at the 61.2 and 26.05 in the list.\n",
      "Helsinki Kaisaniemi is at the 60.18 and 24.94 in the list.\n",
      "Helsinki Malmi airfield is at the 60.25 and 25.05 in the list.\n",
      "Hyvinkää Hyvinkäänkylä is at the 60.6 and 24.8 in the list.\n",
      "Joutsa Savenaho is at the 61.88 and 26.09 in the list.\n",
      "Juuka Niemelä is at the 63.23 and 29.23 in the list.\n",
      "Jyväskylä airport is at the 62.4 and 25.67 in the list.\n",
      "Kaarina Yltöinen is at the 60.39 and 22.55 in the list.\n",
      "Kauhava airfield is at the 63.12 and 23.04 in the list.\n",
      "Kemi Kemi-Tornio airport is at the 65.78 and 24.58 in the list.\n",
      "Kotka Rankki is at the 60.38 and 26.96 in the list.\n",
      "Kouvola Anjala is at the 60.7 and 26.81 in the list.\n",
      "Kouvola Utti airport is at the 60.9 and 26.95 in the list.\n",
      "Kuopio Maaninka is at the 63.14 and 27.31 in the list.\n",
      "Kuusamo airport is at the 65.99 and 29.23 in the list.\n",
      "Lieksa Lampela is at the 63.32 and 30.05 in the list.\n",
      "Mustasaari Valassaaret is at the 63.44 and 21.07 in the list.\n",
      "Parainen Utö is at the 59.78 and 21.37 in the list.\n",
      "Pori airport is at the 61.47 and 21.79 in the list.\n",
      "Rovaniemi Apukka is at the 66.58 and 26.01 in the list.\n",
      "Salo Kärkkä is at the 60.37 and 23.11 in the list.\n",
      "Savonlinna Punkaharju Laukansaari is at the 61.8 and 29.32 in the list.\n",
      "Seinäjoki Pelmaa is at the 62.94 and 22.49 in the list.\n",
      "Siikajoki Ruukki is at the 64.68 and 25.09 in the list.\n",
      "Siilinjärvi Kuopio airport is at the 63.01 and 27.8 in the list.\n",
      "Tohmajärvi Kemie is at the 62.24 and 30.35 in the list.\n",
      "Utsjoki Nuorgam is at the 70.08 and 27.9 in the list.\n",
      "Vaala Pelso is at the 64.501 and 26.42 in the list.\n",
      "Vaasa airport is at the 63.06 and 21.75 in the list.\n",
      "Vesanto Sonkari is at the 62.92 and 26.42 in the list.\n",
      "Vieremä Kaarakkala is at the 63.84 and 27.22 in the list.\n",
      "Vihti Maasoja is at the 60.42 and 24.4 in the list.\n",
      "Ylitornio Meltosjärvi is at the 66.53 and 24.65 in the list.\n",
      "Hanko Russarö(59.77, 22.95)\n",
      "Hanko Russarö added to south_west\n",
      "Heinola Asemantaus(61.2, 26.05)\n",
      "Heinola Asemantaus added to south_west\n",
      "Helsinki Kaisaniemi(60.18, 24.94)\n",
      "Helsinki Kaisaniemi added to south_west\n",
      "Helsinki Malmi airfield(60.25, 25.05)\n",
      "Helsinki Malmi airfield added to south_west\n",
      "Hyvinkää Hyvinkäänkylä(60.6, 24.8)\n",
      "Hyvinkää Hyvinkäänkylä added to south_west\n",
      "Joutsa Savenaho(61.88, 26.09)\n",
      "Joutsa Savenaho added to south_west\n",
      "Juuka Niemelä(63.23, 29.23)\n",
      "Juuka Niemelä added to south_east\n",
      "Jyväskylä airport(62.4, 25.67)\n",
      "Jyväskylä airport added to south_west\n",
      "Kaarina Yltöinen(60.39, 22.55)\n",
      "Kaarina Yltöinen added to south_west\n",
      "Kauhava airfield(63.12, 23.04)\n",
      "Kauhava airfield added to south_west\n",
      "Kemi Kemi-Tornio airport(65.78, 24.58)\n",
      "Kemi Kemi-Tornio airport added to north_west\n",
      "Kotka Rankki(60.38, 26.96)\n",
      "Kotka Rankki added to south_east\n",
      "Kouvola Anjala(60.7, 26.81)\n",
      "Kouvola Anjala added to south_east\n",
      "Kouvola Utti airport(60.9, 26.95)\n",
      "Kouvola Utti airport added to south_east\n",
      "Kuopio Maaninka(63.14, 27.31)\n",
      "Kuopio Maaninka added to south_east\n",
      "Kuusamo airport(65.99, 29.23)\n",
      "Kuusamo airport added to north_east\n",
      "Lieksa Lampela(63.32, 30.05)\n",
      "Lieksa Lampela added to south_east\n",
      "Mustasaari Valassaaret(63.44, 21.07)\n",
      "Mustasaari Valassaaret added to south_west\n",
      "Parainen Utö(59.78, 21.37)\n",
      "Parainen Utö added to south_west\n",
      "Pori airport(61.47, 21.79)\n",
      "Pori airport added to south_west\n",
      "Rovaniemi Apukka(66.58, 26.01)\n",
      "Rovaniemi Apukka added to north_west\n",
      "Salo Kärkkä(60.37, 23.11)\n",
      "Salo Kärkkä added to south_west\n",
      "Savonlinna Punkaharju Laukansaari(61.8, 29.32)\n",
      "Savonlinna Punkaharju Laukansaari added to south_east\n",
      "Seinäjoki Pelmaa(62.94, 22.49)\n",
      "Seinäjoki Pelmaa added to south_west\n",
      "Siikajoki Ruukki(64.68, 25.09)\n",
      "Siikajoki Ruukki added to north_west\n",
      "Siilinjärvi Kuopio airport(63.01, 27.8)\n",
      "Siilinjärvi Kuopio airport added to south_east\n",
      "Tohmajärvi Kemie(62.24, 30.35)\n",
      "Tohmajärvi Kemie added to south_east\n",
      "Utsjoki Nuorgam(70.08, 27.9)\n",
      "Utsjoki Nuorgam added to north_east\n",
      "Vaala Pelso(64.501, 26.42)\n",
      "Vaala Pelso added to north_east\n",
      "Vaasa airport(63.06, 21.75)\n",
      "Vaasa airport added to south_west\n",
      "Vesanto Sonkari(62.92, 26.42)\n",
      "Vesanto Sonkari added to south_east\n",
      "Vieremä Kaarakkala(63.84, 27.22)\n",
      "Vieremä Kaarakkala added to south_east\n",
      "Vihti Maasoja(60.42, 24.4)\n",
      "Vihti Maasoja added to south_west\n",
      "Ylitornio Meltosjärvi(66.53, 24.65)\n",
      "Ylitornio Meltosjärvi added to north_west\n"
     ]
    }
   ],
   "source": [
    "#Just for my understanding making the stations and coordinates visible\n",
    "\n",
    "for i in range(n):\n",
    "    print(f\"{stations[i]} is at the {lats[i]} and {lons[i]} in the list.\")\n",
    "\n",
    "#Adding them to lists based on coordinates\n",
    "\n",
    "for i in range (n):\n",
    "    print(f\"{stations[i]}({lats[i]}, {lons[i]})\")\n",
    "    if lats[i] >= north_south_cutoff and lons[i] >= east_west_cutoff:\n",
    "            north_east.append(stations[i])\n",
    "            print(f\"{stations[i]} added to north_east\")\n",
    "    elif lats[i] >= north_south_cutoff and lons[i] < east_west_cutoff:\n",
    "            north_west.append(stations[i])\n",
    "            print(f\"{stations[i]} added to north_west\")\n",
    "    elif lats[i] < north_south_cutoff and lons[i] >= east_west_cutoff:\n",
    "                south_east.append(stations[i])\n",
    "                print(f\"{stations[i]} added to south_east\")\n",
    "    elif lats[i] < north_south_cutoff and lons[i] < east_west_cutoff:\n",
    "                    south_west.append(stations[i])\n",
    "                    print(f\"{stations[i]} added to south_west\")\n",
    "            "
   ]
  },
  {
   "cell_type": "markdown",
   "metadata": {
    "deletable": false,
    "editable": false,
    "nbgrader": {
     "cell_type": "markdown",
     "checksum": "3d507090fb68d8cf14076355c887c0f5",
     "grade": false,
     "grade_id": "cell-f448b8ec4ea497ba",
     "locked": true,
     "schema_version": 3,
     "solution": false
    }
   },
   "source": [
    "### Part 4  (2 points)\n",
    "\n",
    "- In the following cells, you should print out the correct station names for each geographical zone.\n",
    "    - We have given you the correct number of stations as a hint for each zone, so it is easier for you to know whether you have correct answer. "
   ]
  },
  {
   "cell_type": "code",
   "execution_count": 70,
   "metadata": {
    "deletable": false,
    "editable": false,
    "nbgrader": {
     "cell_type": "code",
     "checksum": "0b9c2165c6c8f5dd5764ed126d9bb834",
     "grade": true,
     "grade_id": "problem_3_ag_p4_allocate_stations_test_nw",
     "locked": true,
     "points": 0.5,
     "schema_version": 3,
     "solution": false
    },
    "tags": []
   },
   "outputs": [
    {
     "name": "stdout",
     "output_type": "stream",
     "text": [
      "The names of the Northwest stations are:\n",
      "['Kemi Kemi-Tornio airport', 'Rovaniemi Apukka', 'Siikajoki Ruukki', 'Ylitornio Meltosjärvi']\n"
     ]
    }
   ],
   "source": [
    "# This test print should print out station names in North West\n",
    "# Hint: there should be 4 stations in this class\n",
    "print(f\"The names of the Northwest stations are:\\n{north_west}\")"
   ]
  },
  {
   "cell_type": "code",
   "execution_count": 71,
   "metadata": {
    "deletable": false,
    "editable": false,
    "nbgrader": {
     "cell_type": "code",
     "checksum": "6e22de1b3cad3e2be31ef06a350f1d54",
     "grade": true,
     "grade_id": "problem_3_ag_p4_allocate_stations_test_ne",
     "locked": true,
     "points": 0.5,
     "schema_version": 3,
     "solution": false
    },
    "tags": []
   },
   "outputs": [
    {
     "name": "stdout",
     "output_type": "stream",
     "text": [
      "The names of the Northeast stations are:\n",
      "['Kuusamo airport', 'Utsjoki Nuorgam', 'Vaala Pelso']\n"
     ]
    }
   ],
   "source": [
    "# This test print should print out station names in North Eest\n",
    "# Hint: there should be 3 stations in this class\n",
    "print(f\"The names of the Northeast stations are:\\n{north_east}\")"
   ]
  },
  {
   "cell_type": "code",
   "execution_count": 72,
   "metadata": {
    "deletable": false,
    "editable": false,
    "nbgrader": {
     "cell_type": "code",
     "checksum": "2d0d3b8de82684c2994487190a05cf65",
     "grade": true,
     "grade_id": "problem_3_ag_p4_allocate_stations_test_sw",
     "locked": true,
     "points": 0.5,
     "schema_version": 3,
     "solution": false
    },
    "tags": []
   },
   "outputs": [
    {
     "name": "stdout",
     "output_type": "stream",
     "text": [
      "The names of the Southwest stations are:\n",
      "['Hanko Russarö', 'Heinola Asemantaus', 'Helsinki Kaisaniemi', 'Helsinki Malmi airfield', 'Hyvinkää Hyvinkäänkylä', 'Joutsa Savenaho', 'Jyväskylä airport', 'Kaarina Yltöinen', 'Kauhava airfield', 'Mustasaari Valassaaret', 'Parainen Utö', 'Pori airport', 'Salo Kärkkä', 'Seinäjoki Pelmaa', 'Vaasa airport', 'Vihti Maasoja']\n"
     ]
    }
   ],
   "source": [
    "# This test print should print out station names in South West\n",
    "# Hint: there should be 16 stations in this class\n",
    "print(f\"The names of the Southwest stations are:\\n{south_west}\")"
   ]
  },
  {
   "cell_type": "code",
   "execution_count": 73,
   "metadata": {
    "deletable": false,
    "editable": false,
    "nbgrader": {
     "cell_type": "code",
     "checksum": "66f821505606f28187e14325f4480f58",
     "grade": true,
     "grade_id": "problem_3_ag_p4_allocate_stations_test_se",
     "locked": true,
     "points": 0.5,
     "schema_version": 3,
     "solution": false
    },
    "tags": []
   },
   "outputs": [
    {
     "name": "stdout",
     "output_type": "stream",
     "text": [
      "The names of the Southeast stations are:\n",
      "['Juuka Niemelä', 'Kotka Rankki', 'Kouvola Anjala', 'Kouvola Utti airport', 'Kuopio Maaninka', 'Lieksa Lampela', 'Savonlinna Punkaharju Laukansaari', 'Siilinjärvi Kuopio airport', 'Tohmajärvi Kemie', 'Vesanto Sonkari', 'Vieremä Kaarakkala']\n"
     ]
    }
   ],
   "source": [
    "# This test print should print out station names in South East\n",
    "# Hint: there should be 11 stations in this class\n",
    "print(f\"The names of the Southeast stations are:\\n{south_east}\")"
   ]
  },
  {
   "cell_type": "markdown",
   "metadata": {
    "deletable": false,
    "editable": false,
    "nbgrader": {
     "cell_type": "markdown",
     "checksum": "e53b54d77f27f58ebfbbebb4ea9a35c7",
     "grade": false,
     "grade_id": "cell-76781d52bc8f568f",
     "locked": true,
     "schema_version": 3,
     "solution": false
    }
   },
   "source": [
    "### Part 5 (*1 point*)\n",
    "\n",
    "Here, we ask a few questions to make sure you have understood the concepts in this problem. Answer briefly with in few sentences using the Markdown cell below.\n",
    "\n",
    "You can also write any feedback or questions concerning this problem in this Markdown cell.\n",
    "\n",
    "1. Is the concept of using the `and` operator and the difference between the `if`, `elif`, and `else` conditional statements clear to you? If not, what is difficult to understand?\n",
    "2. Did you include comments in your code blocks? If not, please add them now :)\n",
    "\n",
    "Write your answers below (double click to activate and edit the cell below)."
   ]
  },
  {
   "cell_type": "markdown",
   "metadata": {
    "deletable": false,
    "nbgrader": {
     "cell_type": "markdown",
     "checksum": "8dbb92dc2d67c5c172560786ec580985",
     "grade": true,
     "grade_id": "problem_3_mg_p5_style_assessment",
     "locked": false,
     "points": 1,
     "schema_version": 3,
     "solution": true
    }
   },
   "source": [
    "1. It is clear to me!\n",
    "2. Yes I did."
   ]
  },
  {
   "cell_type": "markdown",
   "metadata": {
    "deletable": false,
    "editable": false,
    "nbgrader": {
     "cell_type": "markdown",
     "checksum": "55fb2c02ec5ce264f1e955b1e07640cf",
     "grade": false,
     "grade_id": "cell-d4b559885f7f59c2",
     "locked": true,
     "schema_version": 3,
     "solution": false
    }
   },
   "source": [
    "### Part 6 (*optional*; 0 points)\n",
    "\n",
    "- Print the percentage of stations in each geographical zone\n",
    "    - Store the answers into variables:\n",
    "        - `north_west_share`\n",
    "        - `north_east_share`\n",
    "        - `south_west_share`\n",
    "        - `south_east_share`"
   ]
  },
  {
   "cell_type": "code",
   "execution_count": null,
   "metadata": {
    "deletable": false,
    "nbgrader": {
     "cell_type": "code",
     "checksum": "fafcffbc8c1618382934bff39c963099",
     "grade": false,
     "grade_id": "problem_3_ag_p6_station_percentage",
     "locked": false,
     "schema_version": 3,
     "solution": true
    }
   },
   "outputs": [],
   "source": [
    "# YOUR CODE HERE\n",
    "raise NotImplementedError()"
   ]
  },
  {
   "cell_type": "markdown",
   "metadata": {
    "deletable": false,
    "editable": false,
    "nbgrader": {
     "cell_type": "markdown",
     "checksum": "25a2354980cc4b20ac74cb038f6ff70f",
     "grade": false,
     "grade_id": "cell-0b1ab3acecf88dc2",
     "locked": true,
     "schema_version": 3,
     "solution": false
    }
   },
   "source": [
    "- Print the results following format: \"Northwest contains 99 % of all stations.\" (this is an example not a correct answer)"
   ]
  },
  {
   "cell_type": "code",
   "execution_count": null,
   "metadata": {
    "deletable": false,
    "editable": false,
    "nbgrader": {
     "cell_type": "code",
     "checksum": "66646df443c891222e0a4e97b8724a88",
     "grade": true,
     "grade_id": "problem_3_ag_p6_station_percentage_test1",
     "locked": true,
     "points": 0,
     "schema_version": 3,
     "solution": false
    }
   },
   "outputs": [],
   "source": [
    "# Print the information (you don't need to modify this)\n",
    "# Note we are using f-strings here\n",
    "# .0f rounds the decimal values to whole numbers\n",
    "print(f\"Northwest contains {north_west_share:.0f}% of all stations.\")\n",
    "print(f\"Northeast contains {north_east_share:.0f}% of all stations.\")\n",
    "print(f\"Southwest contains {south_west_share:.0f}% of all stations.\")\n",
    "print(f\"Southeast contains {south_east_share:.0f}% of all stations.\")\n"
   ]
  },
  {
   "cell_type": "markdown",
   "metadata": {
    "deletable": false,
    "editable": false,
    "nbgrader": {
     "cell_type": "markdown",
     "checksum": "5f76ffe0e86dc86104b970cae69049a8",
     "grade": false,
     "grade_id": "cell-3f9de2a687973d48",
     "locked": true,
     "schema_version": 3,
     "solution": false
    }
   },
   "source": [
    "### Done!\n",
    "\n",
    "That's it! Now you have finished all the assignments for this week!\n",
    "\n",
    "If you want, you can still continue with the *optional* (but fun!) [Problem 4](Exercise-3-problem-4.ipynb)."
   ]
  }
 ],
 "metadata": {
  "kernelspec": {
   "display_name": "Python 3 (ipykernel)",
   "language": "python",
   "name": "python3"
  },
  "language_info": {
   "codemirror_mode": {
    "name": "ipython",
    "version": 3
   },
   "file_extension": ".py",
   "mimetype": "text/x-python",
   "name": "python",
   "nbconvert_exporter": "python",
   "pygments_lexer": "ipython3",
   "version": "3.10.12"
  }
 },
 "nbformat": 4,
 "nbformat_minor": 4
}
